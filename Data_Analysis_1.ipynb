{
  "cells": [
    {
      "cell_type": "markdown",
      "metadata": {
        "id": "view-in-github",
        "colab_type": "text"
      },
      "source": [
        "<a href=\"https://colab.research.google.com/github/amzad-786githumb/Data-Analysis-using-Pyspark/blob/main/Data_Analysis_1.ipynb\" target=\"_parent\"><img src=\"https://colab.research.google.com/assets/colab-badge.svg\" alt=\"Open In Colab\"/></a>"
      ]
    },
    {
      "cell_type": "markdown",
      "metadata": {
        "id": "N1wxh5cSSnYG"
      },
      "source": [
        "<h2>Let's mount the Google Drive</h2>"
      ]
    },
    {
      "cell_type": "code",
      "execution_count": 46,
      "metadata": {
        "colab": {
          "base_uri": "https://localhost:8080/"
        },
        "id": "GAspdYioStdS",
        "outputId": "3fec7f17-181f-4352-cc18-528a4b859a4c"
      },
      "outputs": [
        {
          "output_type": "stream",
          "name": "stdout",
          "text": [
            "Drive already mounted at /content/drive; to attempt to forcibly remount, call drive.mount(\"/content/drive\", force_remount=True).\n"
          ]
        }
      ],
      "source": [
        "from google.colab import drive\n",
        "drive.mount('/content/drive')"
      ]
    },
    {
      "cell_type": "markdown",
      "metadata": {
        "id": "vQ6EX4MvTDqL"
      },
      "source": [
        "<h1>Task 1</h1>\n",
        "<p> Insatalling pyspark</p>"
      ]
    },
    {
      "cell_type": "code",
      "execution_count": 47,
      "metadata": {
        "colab": {
          "base_uri": "https://localhost:8080/"
        },
        "id": "kh-9HtDsSy-z",
        "outputId": "bd0b064c-c217-48d6-cb16-0a8ef534645c"
      },
      "outputs": [
        {
          "output_type": "stream",
          "name": "stdout",
          "text": [
            "Requirement already satisfied: pyspark in /usr/local/lib/python3.11/dist-packages (3.5.1)\n",
            "Requirement already satisfied: py4j==0.10.9.7 in /usr/local/lib/python3.11/dist-packages (from pyspark) (0.10.9.7)\n"
          ]
        }
      ],
      "source": [
        "!pip install pyspark\n"
      ]
    },
    {
      "cell_type": "markdown",
      "metadata": {
        "id": "bWG9nE1NUeDq"
      },
      "source": [
        "<p> Importing the modules</p>"
      ]
    },
    {
      "cell_type": "code",
      "execution_count": 48,
      "metadata": {
        "id": "8PHUlxfGUVyy"
      },
      "outputs": [],
      "source": [
        "from pyspark.sql import SparkSession\n",
        "from pyspark.sql.functions import count, max, desc, col, struct, countDistinct\n",
        "import matplotlib.pyplot as plt"
      ]
    },
    {
      "cell_type": "markdown",
      "metadata": {
        "id": "e76OEC_cU9m2"
      },
      "source": [
        "<p>Creating spark session</p>"
      ]
    },
    {
      "cell_type": "code",
      "execution_count": 49,
      "metadata": {
        "id": "RQo1SBwsU7AH"
      },
      "outputs": [],
      "source": [
        "spark = SparkSession.builder.appName('spark_app').getOrCreate()"
      ]
    },
    {
      "cell_type": "markdown",
      "metadata": {
        "id": "FUC7VqOkVh07"
      },
      "source": [
        "<h1> Task 2</h2>"
      ]
    },
    {
      "cell_type": "markdown",
      "metadata": {
        "id": "LzMnuM3vVy3R"
      },
      "source": [
        "<p>Importing the dataset file</p>"
      ]
    },
    {
      "cell_type": "code",
      "execution_count": 50,
      "metadata": {
        "id": "eF2zTGl-VaII"
      },
      "outputs": [],
      "source": [
        "listening_csv_path = '/content/drive/MyDrive/Copy of dataset/listenings.csv'"
      ]
    },
    {
      "cell_type": "code",
      "execution_count": 51,
      "metadata": {
        "id": "QQGzRCZMWDye"
      },
      "outputs": [],
      "source": [
        "listeninng_df = spark.read.format('csv').option('inferSchema', True).option('header', True).load(listening_csv_path)"
      ]
    },
    {
      "cell_type": "markdown",
      "metadata": {
        "id": "UTZ4nvKkYnwI"
      },
      "source": [
        "<p>Check the data</p>"
      ]
    },
    {
      "cell_type": "code",
      "execution_count": 52,
      "metadata": {
        "colab": {
          "base_uri": "https://localhost:8080/"
        },
        "id": "LEyU8XzuWpIX",
        "outputId": "349a2fe4-60bc-4a34-b9a8-452eb2ad9a70"
      },
      "outputs": [
        {
          "output_type": "stream",
          "name": "stdout",
          "text": [
            "+-----------+-------------+--------------------+---------------+--------------------+\n",
            "|    user_id|         date|               track|         artist|               album|\n",
            "+-----------+-------------+--------------------+---------------+--------------------+\n",
            "|000Silenced|1299680100000|           Price Tag|       Jessie J|         Who You Are|\n",
            "|000Silenced|1299679920000|Price Tag (Acoust...|       Jessie J|           Price Tag|\n",
            "|000Silenced|1299679440000|Be Mine! (Ballad ...|          Robyn|            Be Mine!|\n",
            "|000Silenced|1299679200000|            Acapella|          Kelis|            Acapella|\n",
            "|000Silenced|1299675660000|   I'm Not Invisible|      The Tease|   I'm Not Invisible|\n",
            "|000Silenced|1297511400000|Bounce (Feat NORE...|       MSTRKRFT|         Fist of God|\n",
            "|000Silenced|1294498440000|Don't Stop The Mu...|        Rihanna|Addicted 2 Bassli...|\n",
            "|000Silenced|1292438340000|               ObZen|      Meshuggah|               ObZen|\n",
            "|000Silenced|1292437740000|   Yama's Messengers|         Gojira|The Way of All Flesh|\n",
            "|000Silenced|1292436360000|On the Brink of E...|   Napalm Death|Time Waits For No...|\n",
            "|000Silenced|1292436360000|On the Brink of E...|   Napalm Death|Time Waits For No...|\n",
            "|000Silenced|1292435940000|        In Deference|   Napalm Death|      Smear Campaign|\n",
            "|000Silenced|1292434920000|      Post(?)organic|    Decapitated|Organic Hallucinosis|\n",
            "|000Silenced|1292434560000|        Mind Feeders|   Dom & Roland| No Strings Attached|\n",
            "|000Silenced|1292434320000|Necrosadistic War...|Cannibal Corpse|                Kill|\n",
            "|000Silenced|1292365560000|     Dance All Night|   Dom & Roland|          Chronology|\n",
            "|000Silenced|1292365260000|          Late Night|   Dom & Roland|          Chronology|\n",
            "|000Silenced|1292365020000|          Freak Seen|   Dom & Roland|          Chronology|\n",
            "|000Silenced|1292364720000|Paradrenasite (Hi...|   Dom & Roland|          Chronology|\n",
            "|000Silenced|1292364300000|               Rhino|   Dom & Roland|          Chronology|\n",
            "+-----------+-------------+--------------------+---------------+--------------------+\n",
            "only showing top 20 rows\n",
            "\n"
          ]
        }
      ],
      "source": [
        "listeninng_df.show()"
      ]
    },
    {
      "cell_type": "markdown",
      "metadata": {
        "id": "ROeQXZTEZBWe"
      },
      "source": [
        "<p>Dropping the useless columns<p>"
      ]
    },
    {
      "cell_type": "code",
      "execution_count": 53,
      "metadata": {
        "id": "I0WWvQ4oYtbw"
      },
      "outputs": [],
      "source": [
        "listeninng_df = listeninng_df.drop('date')"
      ]
    },
    {
      "cell_type": "markdown",
      "metadata": {
        "id": "bM5Cd7hzZRO2"
      },
      "source": [
        "<p>Dropping the null rows</p>"
      ]
    },
    {
      "cell_type": "code",
      "execution_count": 54,
      "metadata": {
        "id": "xt59QMMdZNzR"
      },
      "outputs": [],
      "source": [
        "listeninng_df = listeninng_df.na.drop()"
      ]
    },
    {
      "cell_type": "markdown",
      "metadata": {
        "id": "yEKHJvDkZfNm"
      },
      "source": [
        "<p>Pronting the cleaned dataset<p>"
      ]
    },
    {
      "cell_type": "code",
      "execution_count": 55,
      "metadata": {
        "colab": {
          "base_uri": "https://localhost:8080/"
        },
        "id": "ee3UItWaZbmQ",
        "outputId": "5ae7d463-f457-47bd-e36f-191a2616cd70"
      },
      "outputs": [
        {
          "output_type": "stream",
          "name": "stdout",
          "text": [
            "+-----------+--------------------+---------------+--------------------+\n",
            "|    user_id|               track|         artist|               album|\n",
            "+-----------+--------------------+---------------+--------------------+\n",
            "|000Silenced|           Price Tag|       Jessie J|         Who You Are|\n",
            "|000Silenced|Price Tag (Acoust...|       Jessie J|           Price Tag|\n",
            "|000Silenced|Be Mine! (Ballad ...|          Robyn|            Be Mine!|\n",
            "|000Silenced|            Acapella|          Kelis|            Acapella|\n",
            "|000Silenced|   I'm Not Invisible|      The Tease|   I'm Not Invisible|\n",
            "|000Silenced|Bounce (Feat NORE...|       MSTRKRFT|         Fist of God|\n",
            "|000Silenced|Don't Stop The Mu...|        Rihanna|Addicted 2 Bassli...|\n",
            "|000Silenced|               ObZen|      Meshuggah|               ObZen|\n",
            "|000Silenced|   Yama's Messengers|         Gojira|The Way of All Flesh|\n",
            "|000Silenced|On the Brink of E...|   Napalm Death|Time Waits For No...|\n",
            "|000Silenced|On the Brink of E...|   Napalm Death|Time Waits For No...|\n",
            "|000Silenced|        In Deference|   Napalm Death|      Smear Campaign|\n",
            "|000Silenced|      Post(?)organic|    Decapitated|Organic Hallucinosis|\n",
            "|000Silenced|        Mind Feeders|   Dom & Roland| No Strings Attached|\n",
            "|000Silenced|Necrosadistic War...|Cannibal Corpse|                Kill|\n",
            "|000Silenced|     Dance All Night|   Dom & Roland|          Chronology|\n",
            "|000Silenced|          Late Night|   Dom & Roland|          Chronology|\n",
            "|000Silenced|          Freak Seen|   Dom & Roland|          Chronology|\n",
            "|000Silenced|Paradrenasite (Hi...|   Dom & Roland|          Chronology|\n",
            "|000Silenced|               Rhino|   Dom & Roland|          Chronology|\n",
            "+-----------+--------------------+---------------+--------------------+\n",
            "only showing top 20 rows\n",
            "\n"
          ]
        }
      ],
      "source": [
        "listeninng_df.show()"
      ]
    },
    {
      "cell_type": "markdown",
      "metadata": {
        "id": "F0DwmsfVZsXB"
      },
      "source": [
        "<p> Let's see the schema <p>"
      ]
    },
    {
      "cell_type": "code",
      "execution_count": 56,
      "metadata": {
        "colab": {
          "base_uri": "https://localhost:8080/"
        },
        "id": "0iQ4YeWaZmNZ",
        "outputId": "08abb3ac-81d5-4a4a-faea-0eecd53d201d"
      },
      "outputs": [
        {
          "output_type": "stream",
          "name": "stdout",
          "text": [
            "root\n",
            " |-- user_id: string (nullable = true)\n",
            " |-- track: string (nullable = true)\n",
            " |-- artist: string (nullable = true)\n",
            " |-- album: string (nullable = true)\n",
            "\n"
          ]
        }
      ],
      "source": [
        "listeninng_df.printSchema()"
      ]
    },
    {
      "cell_type": "markdown",
      "metadata": {
        "id": "eINtX5ebZ4GO"
      },
      "source": [
        "<p>Let's see the shape of the dataframe<p>"
      ]
    },
    {
      "cell_type": "code",
      "execution_count": 57,
      "metadata": {
        "colab": {
          "base_uri": "https://localhost:8080/"
        },
        "id": "KKYGpM5TZyRO",
        "outputId": "b4aa8123-3d60-4e6d-f798-79dd74450049"
      },
      "outputs": [
        {
          "output_type": "stream",
          "name": "stdout",
          "text": [
            "(13758905, 4)\n"
          ]
        }
      ],
      "source": [
        "shape = (listeninng_df.count(), len(listeninng_df.columns))\n",
        "print(shape)"
      ]
    },
    {
      "cell_type": "markdown",
      "metadata": {
        "id": "o4VslxuzaiEw"
      },
      "source": [
        "<h1>Task 3</h1>"
      ]
    },
    {
      "cell_type": "markdown",
      "metadata": {
        "id": "Am70zTytjgBH"
      },
      "source": [
        "<h2>Basic Queries</h2>"
      ]
    },
    {
      "cell_type": "markdown",
      "metadata": {
        "id": "L1m6zH4LjmsO"
      },
      "source": [
        "<h3><b>Query: 1</b> Retrieve all records</h3>"
      ]
    },
    {
      "cell_type": "code",
      "execution_count": 58,
      "metadata": {
        "colab": {
          "base_uri": "https://localhost:8080/"
        },
        "id": "9fmgYrD5jvrm",
        "outputId": "1d4e55f5-0809-4264-c8e6-17cd1042a866"
      },
      "outputs": [
        {
          "output_type": "stream",
          "name": "stdout",
          "text": [
            "+-----------+--------------------+---------------+--------------------+\n",
            "|    user_id|               track|         artist|               album|\n",
            "+-----------+--------------------+---------------+--------------------+\n",
            "|000Silenced|           Price Tag|       Jessie J|         Who You Are|\n",
            "|000Silenced|Price Tag (Acoust...|       Jessie J|           Price Tag|\n",
            "|000Silenced|Be Mine! (Ballad ...|          Robyn|            Be Mine!|\n",
            "|000Silenced|            Acapella|          Kelis|            Acapella|\n",
            "|000Silenced|   I'm Not Invisible|      The Tease|   I'm Not Invisible|\n",
            "|000Silenced|Bounce (Feat NORE...|       MSTRKRFT|         Fist of God|\n",
            "|000Silenced|Don't Stop The Mu...|        Rihanna|Addicted 2 Bassli...|\n",
            "|000Silenced|               ObZen|      Meshuggah|               ObZen|\n",
            "|000Silenced|   Yama's Messengers|         Gojira|The Way of All Flesh|\n",
            "|000Silenced|On the Brink of E...|   Napalm Death|Time Waits For No...|\n",
            "|000Silenced|On the Brink of E...|   Napalm Death|Time Waits For No...|\n",
            "|000Silenced|        In Deference|   Napalm Death|      Smear Campaign|\n",
            "|000Silenced|      Post(?)organic|    Decapitated|Organic Hallucinosis|\n",
            "|000Silenced|        Mind Feeders|   Dom & Roland| No Strings Attached|\n",
            "|000Silenced|Necrosadistic War...|Cannibal Corpse|                Kill|\n",
            "|000Silenced|     Dance All Night|   Dom & Roland|          Chronology|\n",
            "|000Silenced|          Late Night|   Dom & Roland|          Chronology|\n",
            "|000Silenced|          Freak Seen|   Dom & Roland|          Chronology|\n",
            "|000Silenced|Paradrenasite (Hi...|   Dom & Roland|          Chronology|\n",
            "|000Silenced|               Rhino|   Dom & Roland|          Chronology|\n",
            "+-----------+--------------------+---------------+--------------------+\n",
            "only showing top 20 rows\n",
            "\n"
          ]
        }
      ],
      "source": [
        "listeninng_df.show()"
      ]
    },
    {
      "cell_type": "markdown",
      "metadata": {
        "id": "c9yui2lfj1tv"
      },
      "source": [
        "<h3><b>Query: 2</b> Count total listening entries</h3>"
      ]
    },
    {
      "cell_type": "code",
      "execution_count": 59,
      "metadata": {
        "colab": {
          "base_uri": "https://localhost:8080/"
        },
        "id": "svdFJLx3kAI-",
        "outputId": "e90c0260-4084-491d-cdf6-dcdd01ea46ab"
      },
      "outputs": [
        {
          "output_type": "execute_result",
          "data": {
            "text/plain": [
              "13758905"
            ]
          },
          "metadata": {},
          "execution_count": 59
        }
      ],
      "source": [
        "listeninng_df.count()"
      ]
    },
    {
      "cell_type": "markdown",
      "metadata": {
        "id": "hFwsM3EIkDKZ"
      },
      "source": [
        "<h3><b>Query: 3</b> - List distinct artists in the dataset</h3>"
      ]
    },
    {
      "cell_type": "code",
      "execution_count": 60,
      "metadata": {
        "colab": {
          "base_uri": "https://localhost:8080/"
        },
        "id": "QGlZgXnTkXYu",
        "outputId": "d37b817b-d5e0-4968-e9b8-5cd619bf4ca1"
      },
      "outputs": [
        {
          "output_type": "stream",
          "name": "stdout",
          "text": [
            "+--------------------+\n",
            "|              artist|\n",
            "+--------------------+\n",
            "|        This Is Hell|\n",
            "|          Chromatics|\n",
            "|          Snoop Dogg|\n",
            "|              Grimes|\n",
            "|               Rufio|\n",
            "|         Silverstein|\n",
            "|      The Black Keys|\n",
            "| You'll Be a Woma...|\n",
            "|            Doctor P|\n",
            "|           Kate Nash|\n",
            "|       Black Feather|\n",
            "|          Emre Aydın|\n",
            "|              Easter|\n",
            "|               Tyler|\n",
            "|    Jane's Addiction|\n",
            "|           Xperience|\n",
            "|       Cockney Rebel|\n",
            "|             Gemengd|\n",
            "|         The Stereos|\n",
            "|The Partridge Family|\n",
            "+--------------------+\n",
            "only showing top 20 rows\n",
            "\n"
          ]
        }
      ],
      "source": [
        "q3 = listeninng_df.select('artist').distinct()\n",
        "q3.show()"
      ]
    },
    {
      "cell_type": "markdown",
      "metadata": {
        "id": "13av8P_Zapvs"
      },
      "source": [
        "<h3><b>Query: 4</b> Select two columns: track and artist</h3>"
      ]
    },
    {
      "cell_type": "code",
      "execution_count": 61,
      "metadata": {
        "colab": {
          "base_uri": "https://localhost:8080/"
        },
        "id": "89pi6JUyaQXN",
        "outputId": "85508d2a-2a07-4671-99c9-7458e85cf0d8"
      },
      "outputs": [
        {
          "output_type": "stream",
          "name": "stdout",
          "text": [
            "+---------------+--------------------+\n",
            "|         artist|               track|\n",
            "+---------------+--------------------+\n",
            "|       Jessie J|           Price Tag|\n",
            "|       Jessie J|Price Tag (Acoust...|\n",
            "|          Robyn|Be Mine! (Ballad ...|\n",
            "|          Kelis|            Acapella|\n",
            "|      The Tease|   I'm Not Invisible|\n",
            "|       MSTRKRFT|Bounce (Feat NORE...|\n",
            "|        Rihanna|Don't Stop The Mu...|\n",
            "|      Meshuggah|               ObZen|\n",
            "|         Gojira|   Yama's Messengers|\n",
            "|   Napalm Death|On the Brink of E...|\n",
            "|   Napalm Death|On the Brink of E...|\n",
            "|   Napalm Death|        In Deference|\n",
            "|    Decapitated|      Post(?)organic|\n",
            "|   Dom & Roland|        Mind Feeders|\n",
            "|Cannibal Corpse|Necrosadistic War...|\n",
            "|   Dom & Roland|     Dance All Night|\n",
            "|   Dom & Roland|          Late Night|\n",
            "|   Dom & Roland|          Freak Seen|\n",
            "|   Dom & Roland|Paradrenasite (Hi...|\n",
            "|   Dom & Roland|               Rhino|\n",
            "+---------------+--------------------+\n",
            "only showing top 20 rows\n",
            "\n"
          ]
        }
      ],
      "source": [
        "q4 = listeninng_df.select('artist','track')\n",
        "q4.show()"
      ]
    },
    {
      "cell_type": "markdown",
      "metadata": {
        "id": "aHwb1JEKkvN9"
      },
      "source": [
        "<h2>Filtering & Aggregation Queries</h2>"
      ]
    },
    {
      "cell_type": "markdown",
      "metadata": {
        "id": "zMaCfTmbbxg2"
      },
      "source": [
        "<h3><b>Query: 1</b> Find all the records who have listen to Rihanna</h3>"
      ]
    },
    {
      "cell_type": "code",
      "execution_count": 62,
      "metadata": {
        "colab": {
          "base_uri": "https://localhost:8080/"
        },
        "id": "D8K9Y6VWbaB6",
        "outputId": "aa3cbec0-3eb8-4b91-bf4f-3d26bd9ea56c"
      },
      "outputs": [
        {
          "output_type": "stream",
          "name": "stdout",
          "text": [
            "+-----------+--------------------+-------+--------------------+\n",
            "|    user_id|               track| artist|               album|\n",
            "+-----------+--------------------+-------+--------------------+\n",
            "|000Silenced|Don't Stop The Mu...|Rihanna|Addicted 2 Bassli...|\n",
            "|000Silenced|           Disturbia|Rihanna|Good Girl Gone Ba...|\n",
            "|00williamsl|   Hatin On The Club|Rihanna|              Random|\n",
            "|00williamsl|   Hatin On The Club|Rihanna|              Random|\n",
            "|00williamsl|         Complicated|Rihanna|                Loud|\n",
            "|00williamsl|What's My Name (f...|Rihanna|                Loud|\n",
            "|00williamsl|Kanye West feat R...|Rihanna|                Loud|\n",
            "|    0502008|Only Girl (In the...|Rihanna|                Loud|\n",
            "|      0rdos|Pon De Replay (Re...|Rihanna|    Music of the Sun|\n",
            "|      0rdos|          Now I Know|Rihanna|    Music of the Sun|\n",
            "|      0rdos|There's a Thug in...|Rihanna|    Music of the Sun|\n",
            "|      0rdos|                Rush|Rihanna|    Music of the Sun|\n",
            "|      0rdos|              Let Me|Rihanna|    Music of the Sun|\n",
            "|      0rdos|    Music of the Sun|Rihanna|    Music of the Sun|\n",
            "|      0rdos|     Willing to Wait|Rihanna|    Music of the Sun|\n",
            "|      0rdos|       The Last Time|Rihanna|    Music of the Sun|\n",
            "|      0rdos|If It's Lovin' Th...|Rihanna|    Music of the Sun|\n",
            "|      0rdos|     Here I Go Again|Rihanna|    Music of the Sun|\n",
            "|      0rdos|       Pon de Replay|Rihanna|    Music of the Sun|\n",
            "|      0rdos|                 Cry|Rihanna|  Good Girl Gone Bad|\n",
            "+-----------+--------------------+-------+--------------------+\n",
            "only showing top 20 rows\n",
            "\n"
          ]
        }
      ],
      "source": [
        "q1 = listeninng_df.select('*').filter(listeninng_df.artist == 'Rihanna')\n",
        "q1.show()"
      ]
    },
    {
      "cell_type": "markdown",
      "metadata": {
        "id": "fjonKbuQlIyL"
      },
      "source": [
        "<h3><b>Query: 2</b> Get the count of tracks per artist</h3>"
      ]
    },
    {
      "cell_type": "code",
      "execution_count": 63,
      "metadata": {
        "colab": {
          "base_uri": "https://localhost:8080/"
        },
        "id": "0sQW7JpVlOUt",
        "outputId": "c74afa64-ff1c-41a7-ee2d-98969fb2b6a8"
      },
      "outputs": [
        {
          "output_type": "stream",
          "name": "stdout",
          "text": [
            "+--------------------+-----+\n",
            "|              artist|count|\n",
            "+--------------------+-----+\n",
            "|        This Is Hell|  189|\n",
            "|          Chromatics| 2190|\n",
            "|          Snoop Dogg| 4234|\n",
            "|              Grimes|20995|\n",
            "|               Rufio|  421|\n",
            "|         Silverstein| 2354|\n",
            "|      The Black Keys|18800|\n",
            "| You'll Be a Woma...|  388|\n",
            "|            Doctor P|  467|\n",
            "|           Kate Nash| 6549|\n",
            "|       Black Feather|    8|\n",
            "|          Emre Aydın|    6|\n",
            "|              Easter|   37|\n",
            "|               Tyler| 4781|\n",
            "|    Jane's Addiction| 1671|\n",
            "|           Xperience|    3|\n",
            "|       Cockney Rebel|   47|\n",
            "|             Gemengd|    2|\n",
            "|         The Stereos|    2|\n",
            "|The Partridge Family|   38|\n",
            "+--------------------+-----+\n",
            "only showing top 20 rows\n",
            "\n"
          ]
        }
      ],
      "source": [
        "q2 = listeninng_df.groupby('artist').count()\n",
        "q2.show()"
      ]
    },
    {
      "cell_type": "markdown",
      "metadata": {
        "id": "Uf4gXpUHcgKL"
      },
      "source": [
        "<h3><b>Query: 3</b> Find top 10 user who are fan of Rihanna</h3>"
      ]
    },
    {
      "cell_type": "code",
      "execution_count": 64,
      "metadata": {
        "colab": {
          "base_uri": "https://localhost:8080/"
        },
        "id": "cW_6uOTScTMs",
        "outputId": "502d6206-0366-40bd-d4e1-b1eede8dc64f"
      },
      "outputs": [
        {
          "output_type": "stream",
          "name": "stdout",
          "text": [
            "+---------------+-----+\n",
            "|        user_id|count|\n",
            "+---------------+-----+\n",
            "|        thiessu|  179|\n",
            "|    eyessetkyle|  166|\n",
            "|           adxx|  164|\n",
            "|missnumberthree|  156|\n",
            "|helloiamnatalie|  128|\n",
            "|          nmjnb|  124|\n",
            "|        AndyyyA|  123|\n",
            "|     BIGBANG186|  121|\n",
            "|     mixedvibes|  120|\n",
            "|       AndyKitt|  115|\n",
            "+---------------+-----+\n",
            "\n"
          ]
        }
      ],
      "source": [
        "q3 = listeninng_df.select('user_id').filter(listeninng_df.artist == 'Rihanna').groupby('user_id').count().sort(desc('count')).limit(10)\n",
        "q3.show()"
      ]
    },
    {
      "cell_type": "markdown",
      "metadata": {
        "id": "pxkv8AFfeY1D"
      },
      "source": [
        "<h3><b>Query: 4</b> Find top 10 famous track</h3>"
      ]
    },
    {
      "cell_type": "code",
      "execution_count": 65,
      "metadata": {
        "colab": {
          "base_uri": "https://localhost:8080/"
        },
        "id": "6kFyahRBd0Ab",
        "outputId": "420fe94b-5982-400d-ba4f-3fd2231491a0"
      },
      "outputs": [
        {
          "output_type": "stream",
          "name": "stdout",
          "text": [
            "+--------------+----------------+-----+\n",
            "|        artist|           track|count|\n",
            "+--------------+----------------+-----+\n",
            "| Justin Bieber|           Sorry| 3381|\n",
            "|Arctic Monkeys|Do I Wanna Know?| 2865|\n",
            "|      Bon Iver|     Skinny Love| 2836|\n",
            "|          Zayn|      PILLOWTALK| 2701|\n",
            "|   The Killers|   Mr Brightside| 2690|\n",
            "|       Rihanna|            Work| 2646|\n",
            "|      Bastille|         Pompeii| 2606|\n",
            "|Mumford & Sons| Little Lion Man| 2520|\n",
            "|Mumford & Sons|        The Cave| 2485|\n",
            "| Justin Bieber|   Love Yourself| 2481|\n",
            "+--------------+----------------+-----+\n",
            "\n"
          ]
        }
      ],
      "source": [
        "q4 = listeninng_df.select('artist','track').groupby('artist','track').count().sort(desc('count')).limit(10)\n",
        "q4.show()"
      ]
    },
    {
      "cell_type": "markdown",
      "metadata": {
        "id": "ALCi9iYPfn0y"
      },
      "source": [
        "<h3><b>Query: 5</b> Find top 10 famous tracks of Rihanna</h3>"
      ]
    },
    {
      "cell_type": "code",
      "execution_count": 66,
      "metadata": {
        "colab": {
          "base_uri": "https://localhost:8080/"
        },
        "id": "DuG5MoHSftat",
        "outputId": "f57a5ac3-d58d-4b8f-e8da-b93f5a79375e"
      },
      "outputs": [
        {
          "output_type": "stream",
          "name": "stdout",
          "text": [
            "+-------+--------------------+-----+\n",
            "| artist|               track|count|\n",
            "+-------+--------------------+-----+\n",
            "|Rihanna|                Work| 2646|\n",
            "|Rihanna|Only Girl (In the...| 1749|\n",
            "|Rihanna|We Found Love (fe...| 1575|\n",
            "|Rihanna|                 S&M| 1307|\n",
            "|Rihanna|            Rude Boy| 1303|\n",
            "|Rihanna|            Diamonds| 1224|\n",
            "|Rihanna|      Kiss it Better|  945|\n",
            "|Rihanna| Where Have You Been|  844|\n",
            "|Rihanna|Cheers (Drink to ...|  697|\n",
            "|Rihanna|           Needed Me|  679|\n",
            "+-------+--------------------+-----+\n",
            "\n"
          ]
        }
      ],
      "source": [
        "q5 = listeninng_df.select('artist','track').filter(listeninng_df.artist == 'Rihanna').groupby('artist','track').count().sort(desc('count')).limit(10)\n",
        "q5.show()"
      ]
    },
    {
      "cell_type": "markdown",
      "metadata": {
        "id": "jNhxSyqbghYy"
      },
      "source": [
        "<h3><b>Query: 6</b> Find top 10 famous albums</h3>"
      ]
    },
    {
      "cell_type": "code",
      "execution_count": 67,
      "metadata": {
        "colab": {
          "base_uri": "https://localhost:8080/"
        },
        "id": "u4Eh6U5SgB8h",
        "outputId": "36b593c3-3dcb-41b1-b68c-f8c2a8319726"
      },
      "outputs": [
        {
          "output_type": "stream",
          "name": "stdout",
          "text": [
            "+--------------------+--------------------+-----+\n",
            "|              artist|               album|count|\n",
            "+--------------------+--------------------+-----+\n",
            "|          Kanye West|   The Life Of Pablo|22310|\n",
            "|              The xx|                  xx|14195|\n",
            "|      Arctic Monkeys|                  AM|14090|\n",
            "|               alt-J|     An Awesome Wave|13635|\n",
            "|      Mumford & Sons|        Sigh No More|13543|\n",
            "|      Arctic Monkeys|Whatever People S...|12731|\n",
            "|            Bon Iver|            For Emma|11994|\n",
            "|              Grimes|          Art Angels|11655|\n",
            "|Florence + the Ma...|               Lungs|11362|\n",
            "|               Adele|                  21|11215|\n",
            "+--------------------+--------------------+-----+\n",
            "\n"
          ]
        }
      ],
      "source": [
        "q6 = listeninng_df.select('artist','album').groupby('artist','album').count().sort(desc('count')).limit(10)\n",
        "q6.show()"
      ]
    },
    {
      "cell_type": "markdown",
      "metadata": {
        "id": "xAnKWX_HmFeM"
      },
      "source": [
        "<h3><b>Query: 7</b> Top 10 most listened artists</h3>"
      ]
    },
    {
      "cell_type": "code",
      "execution_count": 68,
      "metadata": {
        "colab": {
          "base_uri": "https://localhost:8080/"
        },
        "id": "c4jdB7lmmUaj",
        "outputId": "2853a4e2-2744-42fe-bf6f-e99a35b90410"
      },
      "outputs": [
        {
          "output_type": "stream",
          "name": "stdout",
          "text": [
            "+--------------+-----+\n",
            "|        artist|count|\n",
            "+--------------+-----+\n",
            "|   David Bowie|64056|\n",
            "|    Kanye West|55423|\n",
            "|Arctic Monkeys|52428|\n",
            "|   The Beatles|52420|\n",
            "|     Radiohead|47309|\n",
            "|          Muse|43664|\n",
            "|     Lady Gaga|41651|\n",
            "|       Rihanna|41594|\n",
            "|      Coldplay|36681|\n",
            "|  Taylor Swift|36527|\n",
            "+--------------+-----+\n",
            "\n"
          ]
        }
      ],
      "source": [
        "q7 = listeninng_df.select('artist').groupby('artist').count().sort(desc('count')).limit(10)\n",
        "q7.show()"
      ]
    },
    {
      "cell_type": "markdown",
      "metadata": {
        "id": "YZERpCgpmhqj"
      },
      "source": [
        "<h2>Advanced Queries</h2>"
      ]
    },
    {
      "cell_type": "markdown",
      "metadata": {
        "id": "OghYpHtxmvyE"
      },
      "source": [
        "<h3><b>Query: 1</b> Find users who listened to more than 100 tracks</h3>"
      ]
    },
    {
      "cell_type": "code",
      "execution_count": 69,
      "metadata": {
        "colab": {
          "base_uri": "https://localhost:8080/"
        },
        "id": "Jcfr1RY6nAiK",
        "outputId": "19403654-fdfd-4376-a74f-528f4bf4b166"
      },
      "outputs": [
        {
          "output_type": "stream",
          "name": "stdout",
          "text": [
            "+---------------+-----+\n",
            "|        user_id|count|\n",
            "+---------------+-----+\n",
            "|         15step|  800|\n",
            "|10bobrevolution|  792|\n",
            "|        14M5K0T|  404|\n",
            "|  BandontheWall|  404|\n",
            "|    Kizztronice|  403|\n",
            "| BigManRestless|  402|\n",
            "|   Black__Fairy|  402|\n",
            "|CrossProjection|  402|\n",
            "|    Desecration|  402|\n",
            "|         caz119|  402|\n",
            "|  carleesayshai|  402|\n",
            "|       FinalTom|  402|\n",
            "|           Faea|  402|\n",
            "|    FILdaslemon|  402|\n",
            "|      El_Mantis|  402|\n",
            "|      Flayer723|  402|\n",
            "|        jam-r0x|  402|\n",
            "|  incultojurgis|  402|\n",
            "|    mudvayne280|  402|\n",
            "|         luke39|  402|\n",
            "+---------------+-----+\n",
            "only showing top 20 rows\n",
            "\n"
          ]
        }
      ],
      "source": [
        "q1 = listeninng_df.groupby('user_id').count().filter(col('count') > 100).sort(desc('count'))\n",
        "q1.show()"
      ]
    },
    {
      "cell_type": "markdown",
      "metadata": {
        "id": "S908fP3SmybP"
      },
      "source": [
        "<h3><b>Query: 2</b> Identify albums with the highest number of distinct tracks</h3>"
      ]
    },
    {
      "cell_type": "code",
      "execution_count": 70,
      "metadata": {
        "colab": {
          "base_uri": "https://localhost:8080/"
        },
        "id": "SckvabMfnWWk",
        "outputId": "9e07d95b-b9e7-40b5-865a-a45879701b67"
      },
      "outputs": [
        {
          "output_type": "stream",
          "name": "stdout",
          "text": [
            "+--------------------+---------------+\n",
            "|               album|distinct_tracks|\n",
            "+--------------------+---------------+\n",
            "|       Greatest Hits|          67892|\n",
            "|   The Life Of Pablo|          22311|\n",
            "|                  AM|          14264|\n",
            "|                  xx|          14198|\n",
            "|     An Awesome Wave|          13673|\n",
            "|        Sigh No More|          13556|\n",
            "|Whatever People S...|          12731|\n",
            "|            For Emma|          11995|\n",
            "|          Art Angels|          11694|\n",
            "|                  21|          11576|\n",
            "|               Lungs|          11374|\n",
            "|         Born to Die|           9999|\n",
            "|         The Best Of|           9910|\n",
            "|         The Suburbs|           9862|\n",
            "|            Bon Iver|           9684|\n",
            "|    Purpose (Deluxe)|           9668|\n",
            "|    Only Revolutions|           9429|\n",
            "| To Pimp a Butterfly|           8886|\n",
            "|               RIOT!|           8808|\n",
            "|       Teenage Dream|           8755|\n",
            "+--------------------+---------------+\n",
            "only showing top 20 rows\n",
            "\n"
          ]
        }
      ],
      "source": [
        "q2 = listeninng_df.groupby('album').agg(count('track').alias('distinct_tracks')).sort(desc('distinct_tracks'))\n",
        "q2.show()"
      ]
    },
    {
      "cell_type": "markdown",
      "metadata": {
        "id": "mgl-EtLAmz4U"
      },
      "source": [
        "<h3><b>Query: 3</b> Find the top 5 most listened tracks across all users</h3>"
      ]
    },
    {
      "cell_type": "code",
      "execution_count": 71,
      "metadata": {
        "colab": {
          "base_uri": "https://localhost:8080/"
        },
        "id": "qCLJ5tp-nvML",
        "outputId": "c93bea45-94f4-4af6-85fc-dd85c9967773"
      },
      "outputs": [
        {
          "output_type": "stream",
          "name": "stdout",
          "text": [
            "+-------+-----+\n",
            "|  track|count|\n",
            "+-------+-----+\n",
            "|  Intro|13176|\n",
            "|   Home| 7576|\n",
            "|  Hello| 6961|\n",
            "|Hold On| 5857|\n",
            "|   Work| 4889|\n",
            "+-------+-----+\n",
            "\n"
          ]
        }
      ],
      "source": [
        "q3 = listeninng_df.groupby('track').count().sort(desc('count')).limit(5)\n",
        "q3.show()"
      ]
    },
    {
      "cell_type": "markdown",
      "metadata": {
        "id": "swE9EWHBm2LZ"
      },
      "source": [
        "<h3><b>Query: 4</b> Find all tracks containing a keyword (e.g., \"love\")</h3>"
      ]
    },
    {
      "cell_type": "code",
      "execution_count": 72,
      "metadata": {
        "colab": {
          "base_uri": "https://localhost:8080/"
        },
        "id": "p6_Asyiln9VM",
        "outputId": "cf1b9562-e521-4c8e-e40a-9f65114149af"
      },
      "outputs": [
        {
          "output_type": "stream",
          "name": "stdout",
          "text": [
            "+-----------+--------------------+------------------+--------------------+\n",
            "|    user_id|               track|            artist|               album|\n",
            "+-----------+--------------------+------------------+--------------------+\n",
            "|00williamsj|     John My Beloved|    Sufjan Stevens|     Carrie & Lowell|\n",
            "|  03swalker|Round And Round (...|     Tinkara Kovač|Eurovision Song C...|\n",
            "|  03swalker|Round And Round (...|     Tinkara Kovač|Eurovision Song C...|\n",
            "|  03swalker|Round And Round (...|     Tinkara Kovač|Eurovision Song C...|\n",
            "|  03swalker|Round And Round (...|     Tinkara Kovač|Eurovision Song C...|\n",
            "|  03swalker|Round And Round (...|     Tinkara Kovač|Eurovision Song C...|\n",
            "|    0bvious|All is full of lo...|             Björk|              Random|\n",
            "|  1000julys|   This kind of love|      Sister Hazel|          Absolutely|\n",
            "|  1000julys|   This kind of love|      Sister Hazel|Before The Amplif...|\n",
            "|  1000julys|   This kind of love|      Sister Hazel|Before The Amplif...|\n",
            "|        117|               ulove|           J Dilla|              Donuts|\n",
            "|  123mccann|Everybody wants t...|Japanese Breakfast|Everybody Wants t...|\n",
            "|       1936|         simple love|    Julio Bashmore|         Simple Love|\n",
            "|   1980hate|          Unloveable|        The Smiths|    Louder thanBombs|\n",
            "|2bitwannabe|How Deep is your ...|     Calvin Harris|How Deep Is Your ...|\n",
            "|2bitwannabe|How Deep is your ...|     Calvin Harris|How Deep Is Your ...|\n",
            "|2bitwannabe|How Deep is your ...|     Calvin Harris|How Deep Is Your ...|\n",
            "|       2key|            Freelove|      Depeche Mode|             Exciter|\n",
            "|   2manybjs|Paris Is Burning ...|         Ladyhawke|    Paris Is Burning|\n",
            "|   2ndsight|Little Sunflower ...|    DJ Cam Quartet|             Diggin'|\n",
            "+-----------+--------------------+------------------+--------------------+\n",
            "only showing top 20 rows\n",
            "\n"
          ]
        }
      ],
      "source": [
        "q4 = listeninng_df.select('*').filter(listeninng_df.track.contains('love'))\n",
        "q4.show()"
      ]
    },
    {
      "cell_type": "markdown",
      "metadata": {
        "id": "gJ9NxA-9m1RF"
      },
      "source": [
        "<h3><b>Query: 5</b> - Retrieve listening history for a specific user(03swalker)\n",
        "</h3>"
      ]
    },
    {
      "cell_type": "code",
      "execution_count": 73,
      "metadata": {
        "colab": {
          "base_uri": "https://localhost:8080/"
        },
        "id": "muCQRfNsoaei",
        "outputId": "943bf61c-e399-4f84-dba8-082cd7895255"
      },
      "outputs": [
        {
          "output_type": "stream",
          "name": "stdout",
          "text": [
            "+---------+--------------------+-------------+------------------+\n",
            "|  user_id|               track|       artist|             album|\n",
            "+---------+--------------------+-------------+------------------+\n",
            "|03swalker|I May Fall (feat ...|Jeff Williams|              RWBY|\n",
            "|03swalker|I Burn (feat Case...|Jeff Williams|              RWBY|\n",
            "|03swalker|Gold (feat Casey ...|Jeff Williams|              RWBY|\n",
            "|03swalker|I Burn (Yellow Tr...|Jeff Williams|              RWBY|\n",
            "|03swalker|From Shadows (Bla...|Jeff Williams|              RWBY|\n",
            "|03swalker|Mirror Mirror (Wh...|Jeff Williams|              RWBY|\n",
            "|03swalker|Red Like Roses (R...|Jeff Williams|              RWBY|\n",
            "|03swalker|This Will Be the ...|Jeff Williams|              RWBY|\n",
            "|03swalker|       Sun Goes Down| David Jordan|      Set The Mood|\n",
            "|03swalker|             All Day|    Girl Talk|           All Day|\n",
            "|03swalker|             Bad Boy|      Cascada|Everytime We Touch|\n",
            "|03swalker|  Truly Madly Deeply|      Cascada|Everytime We Touch|\n",
            "|03swalker|  Everytime We Touch|      Cascada|Everytime We Touch|\n",
            "|03swalker|                  10|   000 Nights|         Alphabeat|\n",
            "|03swalker|   What Is Happening|    Alphabeat| This Is Alphabeat|\n",
            "|03swalker|         Fascination|    Alphabeat| This Is Alphabeat|\n",
            "|03swalker|             All Day|    Girl Talk|           All Day|\n",
            "|03swalker|             All Day|    Girl Talk|           All Day|\n",
            "|03swalker|             All Day|    Girl Talk|           All Day|\n",
            "|03swalker|             All Day|    Girl Talk|           All Day|\n",
            "+---------+--------------------+-------------+------------------+\n",
            "only showing top 20 rows\n",
            "\n"
          ]
        }
      ],
      "source": [
        "q5 = listeninng_df.select('*').filter(listeninng_df.user_id == '03swalker')\n",
        "q5.show()"
      ]
    },
    {
      "cell_type": "markdown",
      "metadata": {
        "id": "2-qxMTLqm3t0"
      },
      "source": [
        "<h3><b>Query: 6</b> Get all artists starting with a specific letter (e.g., 'A')</h3>"
      ]
    },
    {
      "cell_type": "code",
      "execution_count": 74,
      "metadata": {
        "colab": {
          "base_uri": "https://localhost:8080/"
        },
        "id": "HQQfYhJXmtSG",
        "outputId": "8ea7a03b-68db-43f3-8b2a-d24156736429"
      },
      "outputs": [
        {
          "output_type": "stream",
          "name": "stdout",
          "text": [
            "+-----------+--------------------+--------------------+--------------------+\n",
            "|    user_id|               track|              artist|               album|\n",
            "+-----------+--------------------+--------------------+--------------------+\n",
            "|000Silenced|Fenix Funk 5 (Wip...|          Aphex Twin|       Wipeout Pulse|\n",
            "|000Silenced|         B+W Stripes|          Aphex Twin|Selected Ambient ...|\n",
            "|000Silenced|Fenix Funk 5 (Wip...|          Aphex Twin|       Wipeout Pulse|\n",
            "|000Silenced|Fenix Funk 5 (Wip...|          Aphex Twin|       Wipeout Pulse|\n",
            "|000Silenced|Take Me Away (Org...|Agent X Feat Nate...|Addicted to Bass ...|\n",
            "|000Silenced|Only Man (Jakwob ...|        Audio Bullys|Addicted to Bass ...|\n",
            "|000Silenced|Shut The Lights O...|              Adam F|Addicted to Bass ...|\n",
            "|000Silenced|      Homesick Angel|           Atari Era|Addicted to Bass ...|\n",
            "|      _0015|I Couldn’t Say It...|      Arthur Russell|Love Is Overtakin...|\n",
            "|      _0015|    F**kin' Problems|          A$AP Rocky|        LongLiveA$AP|\n",
            "|      _0015|I Couldn’t Say It...|      Arthur Russell|Love Is Overtakin...|\n",
            "|      _0015|    Get Around to It|      Arthur Russell|Calling Out of Co...|\n",
            "|      _0015|       Close My Eyes|      Arthur Russell|Keep The Lights O...|\n",
            "|      _0015|      Arm Around You|      Arthur Russell|Calling Out of Co...|\n",
            "|      _0015|       Daily Routine|   Animal Collective|Merriweather Post...|\n",
            "|    00bob00|       Supersymmetry|         Arcade Fire|           Reflektor|\n",
            "|    00bob00|It’s Never Over (...|         Arcade Fire|           Reflektor|\n",
            "|    00bob00|           Afterlife|         Arcade Fire|           Reflektor|\n",
            "|    00bob00|   My Body Is a Cage|         Arcade Fire|          Neon Bible|\n",
            "|    00bob00|            We Exist|         Arcade Fire|           Reflektor|\n",
            "+-----------+--------------------+--------------------+--------------------+\n",
            "only showing top 20 rows\n",
            "\n"
          ]
        }
      ],
      "source": [
        "q6 = listeninng_df.select('*').filter(listeninng_df.artist.startswith('A'))\n",
        "q6.show()"
      ]
    },
    {
      "cell_type": "markdown",
      "metadata": {
        "id": "QXlfkMzmpcWA"
      },
      "source": [
        "<h3><b>Query: 7</b> - Find users who listened to more than one track by the same artist</h3>"
      ]
    },
    {
      "cell_type": "code",
      "execution_count": 75,
      "metadata": {
        "colab": {
          "base_uri": "https://localhost:8080/"
        },
        "id": "GjzSLvBrqBAa",
        "outputId": "c168357a-52c7-46a0-b443-6d9b76fd6312"
      },
      "outputs": [
        {
          "output_type": "stream",
          "name": "stdout",
          "text": [
            "+---------------+--------------------+\n",
            "|        user_id|              artist|\n",
            "+---------------+--------------------+\n",
            "|    000Silenced|        Dom & Roland|\n",
            "|      05thouldm|                Akon|\n",
            "|        0bvious|             Actress|\n",
            "|         0m3rt4|   Zardonic & Krusha|\n",
            "|   101niknak101|          Lily Frost|\n",
            "|10bobrevolution|     Clyde McPhatter|\n",
            "|    12thmarquis|         BBC Radio 4|\n",
            "|      1337Chris|        Foo Fighters|\n",
            "|           1dan|       Happy Mondays|\n",
            "|   1davey_darko|      Morphine Ghost|\n",
            "|        1Marley|      Juanita Dailey|\n",
            "|         1Spork|           Blackmill|\n",
            "|            2HB|                 M83|\n",
            "|           2key|    Boards of Canada|\n",
            "|   2plus2isfive|          Ryan Adams|\n",
            "|           3DiT|                3dit|\n",
            "|          3mkay|             The The|\n",
            "|       456chris|   Rodney Carrington|\n",
            "|       456chris|  The Joy Formidable|\n",
            "|            462|Silent Witness & ...|\n",
            "+---------------+--------------------+\n",
            "only showing top 20 rows\n",
            "\n"
          ]
        }
      ],
      "source": [
        "q7 = listeninng_df.groupBy('user_id', 'artist').count().filter(col('count') > 1).select('user_id', 'artist')\n",
        "q7.show()"
      ]
    },
    {
      "cell_type": "markdown",
      "metadata": {
        "id": "eybuZCtxpdql"
      },
      "source": [
        "<h3><b>Query: 8</b> - Identify tracks listened to by multiple users\n",
        "</h3>"
      ]
    },
    {
      "cell_type": "code",
      "execution_count": 76,
      "metadata": {
        "colab": {
          "base_uri": "https://localhost:8080/"
        },
        "id": "_VuCgu4uqLqR",
        "outputId": "0daf8832-3a2b-4883-fcfd-d011123993bb"
      },
      "outputs": [
        {
          "output_type": "stream",
          "name": "stdout",
          "text": [
            "+--------------------+\n",
            "|               track|\n",
            "+--------------------+\n",
            "|       Smart Systems|\n",
            "|              V 3005|\n",
            "|  Beer For Breakfast|\n",
            "|            Has Been|\n",
            "|The Devil Named M...|\n",
            "|             Amazing|\n",
            "|            Bus Talk|\n",
            "|            Superfly|\n",
            "|       The Beginning|\n",
            "|            One Half|\n",
            "|      January Friend|\n",
            "|           On My Way|\n",
            "|             Banquet|\n",
            "| Gold on the Ceiling|\n",
            "|Hybrid (Biome Remix)|\n",
            "|              Flower|\n",
            "|     Burning Bridges|\n",
            "|     Serving The One|\n",
            "|         Koonyum Sun|\n",
            "|      Mambo De Paree|\n",
            "+--------------------+\n",
            "only showing top 20 rows\n",
            "\n"
          ]
        }
      ],
      "source": [
        "q8 = listeninng_df.groupBy('track').count().filter(col('count') > 1).select('track')\n",
        "q8.show()"
      ]
    },
    {
      "cell_type": "markdown",
      "metadata": {
        "id": "7PyA3ExHpevq"
      },
      "source": [
        "<h3><b>Query: 9</b> Retrieve user history where track or artist names are missing</h3>"
      ]
    },
    {
      "cell_type": "code",
      "execution_count": 77,
      "metadata": {
        "colab": {
          "base_uri": "https://localhost:8080/"
        },
        "id": "yEDwoGOUqrhZ",
        "outputId": "56535908-b92f-4762-ccb4-8d273ed381b7"
      },
      "outputs": [
        {
          "output_type": "stream",
          "name": "stdout",
          "text": [
            "+-------+-----+------+-----+\n",
            "|user_id|track|artist|album|\n",
            "+-------+-----+------+-----+\n",
            "+-------+-----+------+-----+\n",
            "\n"
          ]
        }
      ],
      "source": [
        "q9 = listeninng_df.filter(listeninng_df.track.isNull() | listeninng_df.artist.isNull())\n",
        "q9.show()"
      ]
    },
    {
      "cell_type": "markdown",
      "metadata": {
        "id": "ajD5ed56phDC"
      },
      "source": [
        "<h3><b>Query: 10</b> Find songs that appear in more than X different album</h3>"
      ]
    },
    {
      "cell_type": "code",
      "execution_count": 78,
      "metadata": {
        "colab": {
          "base_uri": "https://localhost:8080/"
        },
        "id": "DneKskEcq6Zg",
        "outputId": "f39b1452-d81b-4fb2-bc2a-0ac826139f2e"
      },
      "outputs": [
        {
          "output_type": "stream",
          "name": "stdout",
          "text": [
            "+--------------------+\n",
            "|               track|\n",
            "+--------------------+\n",
            "|      January Friend|\n",
            "|Hybrid (Biome Remix)|\n",
            "|              Remedy|\n",
            "|      Worry About Me|\n",
            "|       The Beginning|\n",
            "|  The Gondoliers (or|\n",
            "|            The Moth|\n",
            "|            The City|\n",
            "|    Straight to Hell|\n",
            "|King Tubby Meets ...|\n",
            "|           On My Way|\n",
            "|Turn Your Lights ...|\n",
            "|These Things I've...|\n",
            "|             Amazing|\n",
            "|               Do It|\n",
            "|Love I've Found i...|\n",
            "|You Ain't Seen No...|\n",
            "|              SWLABR|\n",
            "|          Nightmares|\n",
            "|   Things Mean a Lot|\n",
            "+--------------------+\n",
            "only showing top 20 rows\n",
            "\n"
          ]
        }
      ],
      "source": [
        "q10 = listeninng_df.groupBy('track').agg(countDistinct('album').alias('distinct_albums')).filter(col('distinct_albums') > 1).select('track')\n",
        "q10.show()"
      ]
    },
    {
      "cell_type": "markdown",
      "metadata": {
        "id": "MB0fCEVWra3p"
      },
      "source": [
        "<h2>Combining Multiple Conditions</h2>"
      ]
    },
    {
      "cell_type": "markdown",
      "metadata": {
        "id": "g4Gmgbgfpf3a"
      },
      "source": [
        "<h3><b>Query: 1</b> Filter songs by both artist as \"Cascada\"  and album name as \"Everytime We Touch\"</h3>"
      ]
    },
    {
      "cell_type": "code",
      "execution_count": 79,
      "metadata": {
        "colab": {
          "base_uri": "https://localhost:8080/"
        },
        "id": "-wZZNI5wpYTt",
        "outputId": "b1e59856-1d72-49b7-b7ed-f8287e29b425"
      },
      "outputs": [
        {
          "output_type": "stream",
          "name": "stdout",
          "text": [
            "+--------------+--------------------+-------+------------------+\n",
            "|       user_id|               track| artist|             album|\n",
            "+--------------+--------------------+-------+------------------+\n",
            "|     03swalker|             Bad Boy|Cascada|Everytime We Touch|\n",
            "|     03swalker|  Truly Madly Deeply|Cascada|Everytime We Touch|\n",
            "|     03swalker|  Everytime We Touch|Cascada|Everytime We Touch|\n",
            "|     03swalker|  Everytime We Touch|Cascada|Everytime We Touch|\n",
            "|     AbigailEM|Everytime We Touc...|Cascada|Everytime We Touch|\n",
            "|  AceOfTheDeck|             Bad Boy|Cascada|Everytime We Touch|\n",
            "|AdvocateKartel|Everytime We touc...|Cascada|Everytime We Touch|\n",
            "| AlestesCarrow|Everytime We Touc...|Cascada|Everytime We Touch|\n",
            "|      Alexrrrr|  Everytime We Touch|Cascada|Everytime We Touch|\n",
            "|      Alexrrrr|  Everytime We Touch|Cascada|Everytime We Touch|\n",
            "|    allithebug|Everytime We Touc...|Cascada|Everytime We Touch|\n",
            "|    allithebug|Everytime We Touc...|Cascada|Everytime We Touch|\n",
            "|       allymad|A Never Ending Dream|Cascada|Everytime We Touch|\n",
            "|       allymad|      How Do You Do!|Cascada|Everytime We Touch|\n",
            "|       allymad|             Bad Boy|Cascada|Everytime We Touch|\n",
            "|       allymad|             Miracle|Cascada|Everytime We Touch|\n",
            "|       allymad|  Truly Madly Deeply|Cascada|Everytime We Touch|\n",
            "|       allymad|         Another You|Cascada|Everytime We Touch|\n",
            "|       allymad|          Love Again|Cascada|Everytime We Touch|\n",
            "|       allymad|      Ready for Love|Cascada|Everytime We Touch|\n",
            "+--------------+--------------------+-------+------------------+\n",
            "only showing top 20 rows\n",
            "\n"
          ]
        }
      ],
      "source": [
        "q1 = listeninng_df.filter((listeninng_df.artist == \"Cascada\") & (listeninng_df.album == \"Everytime We Touch\"))\n",
        "q1.show()\n"
      ]
    },
    {
      "cell_type": "markdown",
      "metadata": {
        "id": "NbedVHXMs445"
      },
      "source": [
        "<h3><b>Query: 2</b> Find tracks listened to by a specific user and belonging to a given artist</h3>"
      ]
    },
    {
      "cell_type": "code",
      "execution_count": 80,
      "metadata": {
        "colab": {
          "base_uri": "https://localhost:8080/"
        },
        "id": "gFP0bZa6smDS",
        "outputId": "8e4f1cf5-7ae3-48f6-9547-b55e21e22bb1"
      },
      "outputs": [
        {
          "output_type": "stream",
          "name": "stdout",
          "text": [
            "+-------+----------------+------+-------------------+\n",
            "|user_id|           track|artist|              album|\n",
            "+-------+----------------+------+-------------------+\n",
            "|   3DiT|       Loud Saga|  3dit|Super Cork & Beyond|\n",
            "|   3DiT|      Super Cork|  3dit|Super Cork & Beyond|\n",
            "|   3DiT|    All For Cork|  3dit|     Random OutPlay|\n",
            "|   3DiT|  Bang Your Face|  3dit|     Random OutPlay|\n",
            "|   3DiT|  Bang Your Face|  3dit|     Random OutPlay|\n",
            "|   3DiT|    All For Cork|  3dit|     Random OutPlay|\n",
            "|   3DiT|    All For Cork|  3dit|     Random OutPlay|\n",
            "|   3DiT|    All For Cork|  3dit|     Random OutPlay|\n",
            "|   3DiT|   Sratch & Flex|  3dit|     Random OutPlay|\n",
            "|   3DiT|PoichBoichToich1|  3dit|    PoichBoichToich|\n",
            "+-------+----------------+------+-------------------+\n",
            "\n"
          ]
        }
      ],
      "source": [
        "q2 = listeninng_df.filter((listeninng_df.user_id == \"3DiT\") & (listeninng_df.artist == \"3dit\"))\n",
        "q2.show()"
      ]
    },
    {
      "cell_type": "markdown",
      "metadata": {
        "id": "em71o4Zmtjxf"
      },
      "source": [
        "<h3><b>Query: 3</b> Exclude entries for Justin Bieber</h3>"
      ]
    },
    {
      "cell_type": "code",
      "execution_count": 81,
      "metadata": {
        "colab": {
          "base_uri": "https://localhost:8080/"
        },
        "id": "qZI6D0fwtdUh",
        "outputId": "cb000fbc-605c-426f-df9e-2504484ca0f7"
      },
      "outputs": [
        {
          "output_type": "stream",
          "name": "stdout",
          "text": [
            "+-----------+--------------------+---------------+--------------------+\n",
            "|    user_id|               track|         artist|               album|\n",
            "+-----------+--------------------+---------------+--------------------+\n",
            "|000Silenced|           Price Tag|       Jessie J|         Who You Are|\n",
            "|000Silenced|Price Tag (Acoust...|       Jessie J|           Price Tag|\n",
            "|000Silenced|Be Mine! (Ballad ...|          Robyn|            Be Mine!|\n",
            "|000Silenced|            Acapella|          Kelis|            Acapella|\n",
            "|000Silenced|   I'm Not Invisible|      The Tease|   I'm Not Invisible|\n",
            "|000Silenced|Bounce (Feat NORE...|       MSTRKRFT|         Fist of God|\n",
            "|000Silenced|Don't Stop The Mu...|        Rihanna|Addicted 2 Bassli...|\n",
            "|000Silenced|               ObZen|      Meshuggah|               ObZen|\n",
            "|000Silenced|   Yama's Messengers|         Gojira|The Way of All Flesh|\n",
            "|000Silenced|On the Brink of E...|   Napalm Death|Time Waits For No...|\n",
            "|000Silenced|On the Brink of E...|   Napalm Death|Time Waits For No...|\n",
            "|000Silenced|        In Deference|   Napalm Death|      Smear Campaign|\n",
            "|000Silenced|      Post(?)organic|    Decapitated|Organic Hallucinosis|\n",
            "|000Silenced|        Mind Feeders|   Dom & Roland| No Strings Attached|\n",
            "|000Silenced|Necrosadistic War...|Cannibal Corpse|                Kill|\n",
            "|000Silenced|     Dance All Night|   Dom & Roland|          Chronology|\n",
            "|000Silenced|          Late Night|   Dom & Roland|          Chronology|\n",
            "|000Silenced|          Freak Seen|   Dom & Roland|          Chronology|\n",
            "|000Silenced|Paradrenasite (Hi...|   Dom & Roland|          Chronology|\n",
            "|000Silenced|               Rhino|   Dom & Roland|          Chronology|\n",
            "+-----------+--------------------+---------------+--------------------+\n",
            "only showing top 20 rows\n",
            "\n"
          ]
        }
      ],
      "source": [
        "q3 = listeninng_df.filter(listeninng_df.artist != \"Justin Bieber\")\n",
        "q3.show()"
      ]
    },
    {
      "cell_type": "markdown",
      "metadata": {
        "id": "hogTHbJ8t13G"
      },
      "source": [
        "<h3><b>Query 4</b> - Retrieve records where artist is \"Robyn\" or track names contain certain keywords as \"Be Mine!\"</h2>\n"
      ]
    },
    {
      "cell_type": "code",
      "execution_count": 82,
      "metadata": {
        "colab": {
          "base_uri": "https://localhost:8080/"
        },
        "id": "47b8WDb3ts9J",
        "outputId": "5831e373-0208-49b8-bf2f-687d9880c324"
      },
      "outputs": [
        {
          "output_type": "stream",
          "name": "stdout",
          "text": [
            "+-----------+--------------------+------+--------------------+\n",
            "|    user_id|               track|artist|               album|\n",
            "+-----------+--------------------+------+--------------------+\n",
            "|000Silenced|Be Mine! (Ballad ...| Robyn|            Be Mine!|\n",
            "|  1337atron|Cry When You Get ...| Robyn|      Body Talk Pt 1|\n",
            "|  1337atron|Cry When You Get ...| Robyn|      Body Talk Pt 1|\n",
            "|  1337atron|Cry When You Get ...| Robyn|      Body Talk Pt 1|\n",
            "|  1337atron|Cry When You Get ...| Robyn|      Body Talk Pt 1|\n",
            "|  1337atron|        Hang with Me| Robyn|           Body Talk|\n",
            "|  1337atron|        Hang with Me| Robyn|           Body Talk|\n",
            "|  1337atron|      Indestructible| Robyn|           Body Talk|\n",
            "|  1337atron|              Fembot| Robyn|           Body Talk|\n",
            "|  1337atron|            Robotboy| Robyn|Robyn (Special Ed...|\n",
            "|  1337atron|   Dancing on My Own| Robyn|           Body Talk|\n",
            "|  1337atron|Bionic Woman (Int...| Robyn|Robyn (Special Ed...|\n",
            "|  1337atron| Crash and Burn Girl| Robyn|Robyn (Special Ed...|\n",
            "|  1337atron|With Every Heartb...| Robyn|Robyn (Special Ed...|\n",
            "|  1337atron|With Every Heartb...| Robyn|Robyn (Special Ed...|\n",
            "|  1337atron|        Bum Like You| Robyn|Robyn (Special Ed...|\n",
            "|  1337atron|        Bum Like You| Robyn|Robyn (Special Ed...|\n",
            "|      138sp| Crash and Burn Girl| Robyn|               Robyn|\n",
            "| 200percent|   Konichiwa Bitches| Robyn|Robyn (Special Ed...|\n",
            "|       5500|Dancing On My Own...| Robyn|   Dancing on My Own|\n",
            "+-----------+--------------------+------+--------------------+\n",
            "only showing top 20 rows\n",
            "\n"
          ]
        }
      ],
      "source": [
        "q4 = listeninng_df.filter((listeninng_df.artist == \"Robyn\") | (listeninng_df.track.contains(\"Be Mine!\")))\n",
        "q4.show()"
      ]
    },
    {
      "cell_type": "markdown",
      "source": [
        "<h1>Task 4</h1>"
      ],
      "metadata": {
        "id": "ouLkH12zWkpq"
      }
    },
    {
      "cell_type": "markdown",
      "source": [
        "Importing the genre.csv file"
      ],
      "metadata": {
        "id": "f_usmQsSWq2p"
      }
    },
    {
      "cell_type": "code",
      "execution_count": 83,
      "metadata": {
        "id": "Ru13c6lCuYda"
      },
      "outputs": [],
      "source": [
        "genre_csv_path = '/content/drive/MyDrive/Copy of dataset/genre.csv'\n",
        "genre_df = spark.read.format('csv').option('inferSchema', True).option('header', True).load(genre_csv_path)"
      ]
    },
    {
      "cell_type": "markdown",
      "source": [
        "Let's check the data"
      ],
      "metadata": {
        "id": "Qqv0E-9SXKbi"
      }
    },
    {
      "cell_type": "code",
      "source": [
        "genre_df.show()"
      ],
      "metadata": {
        "colab": {
          "base_uri": "https://localhost:8080/"
        },
        "id": "9wT7XabbXDeF",
        "outputId": "394f68bb-4c1e-4968-903f-fa77f2c317de"
      },
      "execution_count": 84,
      "outputs": [
        {
          "output_type": "stream",
          "name": "stdout",
          "text": [
            "+--------------------+-----+\n",
            "|              artist|genre|\n",
            "+--------------------+-----+\n",
            "|                Muse| rock|\n",
            "|             Nirvana| rock|\n",
            "|            Bon Jovi| rock|\n",
            "|          The Police| rock|\n",
            "|                Kiss| rock|\n",
            "|       Guns N' Roses| rock|\n",
            "|         Rusted Root| rock|\n",
            "|Katrina and the W...|  pop|\n",
            "|         The Beatles| rock|\n",
            "|        Hall & Oates|  pop|\n",
            "|        Otis Redding| soul|\n",
            "|         Marvin Gaye| soul|\n",
            "|     The Cranberries| rock|\n",
            "|            Survivor| rock|\n",
            "|       Fleetwood Mac|blues|\n",
            "|           Radiohead| rock|\n",
            "|                Toto| rock|\n",
            "|                  U2| rock|\n",
            "|Creedence Clearwa...| rock|\n",
            "|                 REM| rock|\n",
            "+--------------------+-----+\n",
            "only showing top 20 rows\n",
            "\n"
          ]
        }
      ]
    },
    {
      "cell_type": "code",
      "source": [
        "listeninng_df.show()"
      ],
      "metadata": {
        "colab": {
          "base_uri": "https://localhost:8080/"
        },
        "id": "AslEheJHXPPz",
        "outputId": "b57a1d8a-e910-4559-fe52-45d48ba2de3c"
      },
      "execution_count": 85,
      "outputs": [
        {
          "output_type": "stream",
          "name": "stdout",
          "text": [
            "+-----------+--------------------+---------------+--------------------+\n",
            "|    user_id|               track|         artist|               album|\n",
            "+-----------+--------------------+---------------+--------------------+\n",
            "|000Silenced|           Price Tag|       Jessie J|         Who You Are|\n",
            "|000Silenced|Price Tag (Acoust...|       Jessie J|           Price Tag|\n",
            "|000Silenced|Be Mine! (Ballad ...|          Robyn|            Be Mine!|\n",
            "|000Silenced|            Acapella|          Kelis|            Acapella|\n",
            "|000Silenced|   I'm Not Invisible|      The Tease|   I'm Not Invisible|\n",
            "|000Silenced|Bounce (Feat NORE...|       MSTRKRFT|         Fist of God|\n",
            "|000Silenced|Don't Stop The Mu...|        Rihanna|Addicted 2 Bassli...|\n",
            "|000Silenced|               ObZen|      Meshuggah|               ObZen|\n",
            "|000Silenced|   Yama's Messengers|         Gojira|The Way of All Flesh|\n",
            "|000Silenced|On the Brink of E...|   Napalm Death|Time Waits For No...|\n",
            "|000Silenced|On the Brink of E...|   Napalm Death|Time Waits For No...|\n",
            "|000Silenced|        In Deference|   Napalm Death|      Smear Campaign|\n",
            "|000Silenced|      Post(?)organic|    Decapitated|Organic Hallucinosis|\n",
            "|000Silenced|        Mind Feeders|   Dom & Roland| No Strings Attached|\n",
            "|000Silenced|Necrosadistic War...|Cannibal Corpse|                Kill|\n",
            "|000Silenced|     Dance All Night|   Dom & Roland|          Chronology|\n",
            "|000Silenced|          Late Night|   Dom & Roland|          Chronology|\n",
            "|000Silenced|          Freak Seen|   Dom & Roland|          Chronology|\n",
            "|000Silenced|Paradrenasite (Hi...|   Dom & Roland|          Chronology|\n",
            "|000Silenced|               Rhino|   Dom & Roland|          Chronology|\n",
            "+-----------+--------------------+---------------+--------------------+\n",
            "only showing top 20 rows\n",
            "\n"
          ]
        }
      ]
    },
    {
      "cell_type": "markdown",
      "source": [
        "<h3><b>Query: 1</b> Inner join the two dataset</h3>"
      ],
      "metadata": {
        "id": "ftH6B5d9Xbi5"
      }
    },
    {
      "cell_type": "code",
      "source": [
        "data = listeninng_df.join(genre_df, how='inner', on='artist')\n",
        "data.show()"
      ],
      "metadata": {
        "colab": {
          "base_uri": "https://localhost:8080/"
        },
        "id": "pT-49sqpXXi4",
        "outputId": "6ef58d03-beb6-402a-ddf8-b856364fc7bf"
      },
      "execution_count": 86,
      "outputs": [
        {
          "output_type": "stream",
          "name": "stdout",
          "text": [
            "+------------+-----------+--------------------+--------------------+--------------------+\n",
            "|      artist|    user_id|               track|               album|               genre|\n",
            "+------------+-----------+--------------------+--------------------+--------------------+\n",
            "|    Jessie J|000Silenced|           Price Tag|         Who You Are| Ariana Grande & ...|\n",
            "|    Jessie J|000Silenced|           Price Tag|         Who You Are| Jhene Aiko & Rixton|\n",
            "|    Jessie J|000Silenced|           Price Tag|         Who You Are| Nicki Minaj & Ar...|\n",
            "|    Jessie J|000Silenced|           Price Tag|         Who You Are|                 pop|\n",
            "|    Jessie J|000Silenced|Price Tag (Acoust...|           Price Tag| Ariana Grande & ...|\n",
            "|    Jessie J|000Silenced|Price Tag (Acoust...|           Price Tag| Jhene Aiko & Rixton|\n",
            "|    Jessie J|000Silenced|Price Tag (Acoust...|           Price Tag| Nicki Minaj & Ar...|\n",
            "|    Jessie J|000Silenced|Price Tag (Acoust...|           Price Tag|                 pop|\n",
            "|       Robyn|000Silenced|Be Mine! (Ballad ...|            Be Mine!|                 pop|\n",
            "|       Kelis|000Silenced|            Acapella|            Acapella|                 pop|\n",
            "|   The Tease|000Silenced|   I'm Not Invisible|   I'm Not Invisible|             hip hop|\n",
            "|    MSTRKRFT|000Silenced|Bounce (Feat NORE...|         Fist of God|          electronic|\n",
            "|     Rihanna|000Silenced|Don't Stop The Mu...|Addicted 2 Bassli...|                 SZA|\n",
            "|     Rihanna|000Silenced|Don't Stop The Mu...|Addicted 2 Bassli...| Paul McCartney &...|\n",
            "|     Rihanna|000Silenced|Don't Stop The Mu...|Addicted 2 Bassli...|          Kanye West|\n",
            "|     Rihanna|000Silenced|Don't Stop The Mu...|Addicted 2 Bassli...| Kanye West & Pau...|\n",
            "|     Rihanna|000Silenced|Don't Stop The Mu...|Addicted 2 Bassli...|                 pop|\n",
            "|   Meshuggah|000Silenced|               ObZen|               ObZen|               metal|\n",
            "|      Gojira|000Silenced|   Yama's Messengers|The Way of All Flesh|               metal|\n",
            "|Napalm Death|000Silenced|On the Brink of E...|Time Waits For No...|           grindcore|\n",
            "+------------+-----------+--------------------+--------------------+--------------------+\n",
            "only showing top 20 rows\n",
            "\n"
          ]
        }
      ]
    },
    {
      "cell_type": "markdown",
      "source": [
        "<h3><b>Query: 2</b> Find top 10 users are are a fan of POP music</h3>"
      ],
      "metadata": {
        "id": "NWGWD_i_YHz5"
      }
    },
    {
      "cell_type": "code",
      "source": [
        "q2 = data.select('user_id').filter(data.genre == 'pop').groupby('user_id').count().sort(desc('count')).limit(10)\n",
        "q2.show()"
      ],
      "metadata": {
        "colab": {
          "base_uri": "https://localhost:8080/"
        },
        "id": "X2kueBvtX8hO",
        "outputId": "f9825a93-99b6-47d5-ae55-2bb053cb3870"
      },
      "execution_count": 87,
      "outputs": [
        {
          "output_type": "stream",
          "name": "stdout",
          "text": [
            "+---------------+-----+\n",
            "|        user_id|count|\n",
            "+---------------+-----+\n",
            "|        01Green|  496|\n",
            "|      momousagi|  400|\n",
            "|          mrpsb|  400|\n",
            "|   BlueKnockOut|  378|\n",
            "|    musicboy80s|  376|\n",
            "|  incultojurgis|  374|\n",
            "| ElektricOrchid|  370|\n",
            "|foreign_fanatic|  350|\n",
            "|   Kevin_Soutar|  346|\n",
            "|  landrover2171|  301|\n",
            "+---------------+-----+\n",
            "\n"
          ]
        }
      ]
    },
    {
      "cell_type": "markdown",
      "source": [
        "<h3><b>Query: 3</b> Find top 10 famous genres</h3>"
      ],
      "metadata": {
        "id": "nFOibvrSvYea"
      }
    },
    {
      "cell_type": "code",
      "source": [
        "q7 = data.select('genre').groupby('genre').count().sort(desc('count')).limit(10)\n",
        "q7.show()"
      ],
      "metadata": {
        "id": "Ltgu-3eIiI5r"
      },
      "execution_count": 87,
      "outputs": []
    },
    {
      "cell_type": "markdown",
      "source": [
        "<h1>Task 5</h5>"
      ],
      "metadata": {
        "id": "hBVN7ksGwPBy"
      }
    },
    {
      "cell_type": "markdown",
      "source": [
        "<h3><b>Query: 1</b> Find out each user favourite genre</h3>"
      ],
      "metadata": {
        "id": "_FDdEmoAwVIc"
      }
    },
    {
      "cell_type": "code",
      "source": [
        "q11 = data.select('user_id','genre').groupby('user_id','genre').count().sort(desc('count')).dropDuplicates(['user_id'])\n",
        "q11.show()"
      ],
      "metadata": {
        "colab": {
          "base_uri": "https://localhost:8080/"
        },
        "id": "-zxOzfCMvxQ6",
        "outputId": "fcf5fa44-7829-48b3-c8fb-7ab112f22605"
      },
      "execution_count": 88,
      "outputs": [
        {
          "output_type": "stream",
          "name": "stdout",
          "text": [
            "+---------------+-----------+-----+\n",
            "|        user_id|      genre|count|\n",
            "+---------------+-----------+-----+\n",
            "|      --Shinn--|       rock|  112|\n",
            "|       --ollz--|       rock|   47|\n",
            "|     -Amnesiac-|      metal|  323|\n",
            "|         -Bish-|       rock|   59|\n",
            "|        -Danni-|       rock|   45|\n",
            "|          -DeWp|    hip hop|   82|\n",
            "|      -Faction-|       rock|   56|\n",
            "|-February-Star-|       rock|   74|\n",
            "|        -Gemma-|british pop|   38|\n",
            "|   -Gingergirl-|        pop|   28|\n",
            "|        -Hazel-|   synthpop|   14|\n",
            "|        -Heiko-| electronic|   43|\n",
            "|         -Katie|      lo-fi|   58|\n",
            "|      -Krystal-|       rock|   87|\n",
            "|         -Mark-| indie rock|   37|\n",
            "|       -Mullet-|  metalcore|   60|\n",
            "|          -Robs|       rock|   38|\n",
            "| -SleepingStar-|black metal|   57|\n",
            "|      -Stifler-|       rock|  144|\n",
            "|  -Toxic-Waste-|  aggrotech|   55|\n",
            "+---------------+-----------+-----+\n",
            "only showing top 20 rows\n",
            "\n"
          ]
        }
      ]
    },
    {
      "cell_type": "markdown",
      "source": [
        "<h3><b>Query: 2</b> Find out how many pop, rock, metal and hiphop singers we have and plot the visualization using the chart</h3>"
      ],
      "metadata": {
        "id": "UAZV1dyWwcj5"
      }
    },
    {
      "cell_type": "code",
      "source": [
        "q22 = data.select('genre').filter((data.genre == 'pop') | (data.genre == 'rock') | (data.genre == 'metal') | (data.genre == 'hiphop')).groupby('genre').count()\n",
        "q22.show()"
      ],
      "metadata": {
        "colab": {
          "base_uri": "https://localhost:8080/"
        },
        "id": "w55hGN_XwdM6",
        "outputId": "40917640-5c27-4daf-fc28-9cda91fff0d4"
      },
      "execution_count": 89,
      "outputs": [
        {
          "output_type": "stream",
          "name": "stdout",
          "text": [
            "+-----+-------+\n",
            "|genre|  count|\n",
            "+-----+-------+\n",
            "|  pop|1544747|\n",
            "|metal| 208107|\n",
            "| rock|2691934|\n",
            "+-----+-------+\n",
            "\n"
          ]
        }
      ]
    },
    {
      "cell_type": "code",
      "source": [
        "#Now lets visaulize the data"
      ],
      "metadata": {
        "id": "XqnU2JQ0y3aO"
      },
      "execution_count": 91,
      "outputs": []
    },
    {
      "cell_type": "code",
      "source": [
        "q22_list = q22.collect()"
      ],
      "metadata": {
        "id": "-RgmIM8Lweqa"
      },
      "execution_count": 93,
      "outputs": []
    },
    {
      "cell_type": "code",
      "source": [
        "labels  = [row['genre'] for row in q22_list]\n",
        "counts = [row['count'] for row in q22_list]"
      ],
      "metadata": {
        "id": "WJIiEMO0z2Zh"
      },
      "execution_count": 96,
      "outputs": []
    },
    {
      "cell_type": "code",
      "source": [
        "print(labels)\n",
        "print(counts)"
      ],
      "metadata": {
        "colab": {
          "base_uri": "https://localhost:8080/"
        },
        "id": "-WKB7TAx0O9X",
        "outputId": "dffe1d1d-3592-4436-b8f5-c9db0af4c0ab"
      },
      "execution_count": 97,
      "outputs": [
        {
          "output_type": "stream",
          "name": "stdout",
          "text": [
            "['pop', 'metal', 'rock']\n",
            "[1544747, 208107, 2691934]\n"
          ]
        }
      ]
    },
    {
      "cell_type": "markdown",
      "source": [
        "Visualize this data usning matplotlib library"
      ],
      "metadata": {
        "id": "PIuM2Q2c0aXd"
      }
    },
    {
      "cell_type": "code",
      "source": [
        "plt.bar(labels, counts)\n",
        "plt.xlabel('Genre')\n",
        "plt.ylabel('Count')\n",
        "plt.title('Genre Distribution')\n",
        "plt.show()"
      ],
      "metadata": {
        "colab": {
          "base_uri": "https://localhost:8080/",
          "height": 472
        },
        "id": "HV4zsfeB0UhW",
        "outputId": "f43e5193-ecab-4808-c9b1-7e78d74192e5"
      },
      "execution_count": 100,
      "outputs": [
        {
          "output_type": "display_data",
          "data": {
            "text/plain": [
              "<Figure size 640x480 with 1 Axes>"
            ],
            "image/png": "[encoded data removed]"
          },
          "metadata": {}
        }
      ]
    },
    {
      "cell_type": "code",
      "source": [],
      "metadata": {
        "id": "SYpDPYMr0qrC"
      },
      "execution_count": null,
      "outputs": []
    }
  ],
  "metadata": {
    "accelerator": "GPU",
    "colab": {
      "gpuType": "T4",
      "provenance": [],
      "mount_file_id": "1V0Nmg2-3iUo-WQYYlcHpEUV4mD_vuz9G",
      "authorship_tag": "ABX9TyOzKZ8+dKG2SUeZMhafFJk0",
      "include_colab_link": true
    },
    "kernelspec": {
      "display_name": "Python 3",
      "name": "python3"
    },
    "language_info": {
      "name": "python"
    }
  },
  "nbformat": 4,
  "nbformat_minor": 0
}